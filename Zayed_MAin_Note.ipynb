{
  "nbformat": 4,
  "nbformat_minor": 0,
  "metadata": {
    "colab": {
      "provenance": [],
      "authorship_tag": "ABX9TyMCorpHrKDJ3JwzSXvcoa2g",
      "include_colab_link": true
    },
    "kernelspec": {
      "name": "python3",
      "display_name": "Python 3"
    },
    "language_info": {
      "name": "python"
    }
  },
  "cells": [
    {
      "cell_type": "markdown",
      "metadata": {
        "id": "view-in-github",
        "colab_type": "text"
      },
      "source": [
        "<a href=\"https://colab.research.google.com/github/IrfanPavel/OOP-Python-New/blob/main/Zayed_MAin_Note.ipynb\" target=\"_parent\"><img src=\"https://colab.research.google.com/assets/colab-badge.svg\" alt=\"Open In Colab\"/></a>"
      ]
    },
    {
      "cell_type": "markdown",
      "source": [
        "1. Declare and use variables and constants:\n",
        "\n",
        "In programming, variables are used to store data that can be changed or updated during the execution of a program, while constants store data that should not be changed. Here's how you declare and use variables and constants in Python:\n",
        "\n",
        "Variables:\n",
        "In Python, you don't need to specify a data type when declaring variables; Python dynamically assigns the data type based on the value assigned to the variable. You can declare and use variables like this:"
      ],
      "metadata": {
        "id": "rV_3YmMtZbK8"
      }
    },
    {
      "cell_type": "code",
      "execution_count": null,
      "metadata": {
        "colab": {
          "base_uri": "https://localhost:8080/"
        },
        "id": "0kP3WIMdTGf2",
        "outputId": "8ea04192-fedf-426f-c3ad-6000496481a9"
      },
      "outputs": [
        {
          "output_type": "stream",
          "name": "stdout",
          "text": [
            "Name: John\n",
            "Age: 30\n",
            "Height: 6.2\n",
            "Updated Age: 31\n"
          ]
        }
      ],
      "source": [
        "# Declaring variables\n",
        "name = \"John\"\n",
        "age = 30\n",
        "height = 6.2\n",
        "\n",
        "# Using variables\n",
        "print(\"Name:\", name)\n",
        "print(\"Age:\", age)\n",
        "print(\"Height:\", height)\n",
        "\n",
        "# Modifying variables\n",
        "age = 31\n",
        "print(\"Updated Age:\", age)\n"
      ]
    },
    {
      "cell_type": "markdown",
      "source": [
        "Constants:\n",
        "In Python, you can use uppercase variable names to indicate constants. While Python doesn't enforce constant behavior, it's a convention to not change the value of such variables:"
      ],
      "metadata": {
        "id": "7qsqVpPrZhlr"
      }
    },
    {
      "cell_type": "code",
      "source": [
        "# Declaring constants\n",
        "PI = 3.14159265359\n",
        "MAX_VALUE = 100\n",
        "\n",
        "# Using constants\n",
        "print(\"The value of PI is:\", PI)\n",
        "print(\"The maximum value is:\", MAX_VALUE)\n"
      ],
      "metadata": {
        "colab": {
          "base_uri": "https://localhost:8080/"
        },
        "id": "J7z4E6lhZkBr",
        "outputId": "7fc192a3-9125-4f30-e407-09344b7b0a17"
      },
      "execution_count": null,
      "outputs": [
        {
          "output_type": "stream",
          "name": "stdout",
          "text": [
            "The value of PI is: 3.14159265359\n",
            "The maximum value is: 100\n"
          ]
        }
      ]
    },
    {
      "cell_type": "markdown",
      "source": [
        "2. Understand and use the basic data types:\n",
        "\n",
        "Python has several basic data types, including integer, real (floating-point), char (character), string, and Boolean. Here's how you can use each of these data types in Python:\n",
        "\n",
        "Integer:\n",
        "Integers are whole numbers."
      ],
      "metadata": {
        "id": "GjEvqEjUZpsb"
      }
    },
    {
      "cell_type": "code",
      "source": [
        "x = 5\n",
        "y = -10\n"
      ],
      "metadata": {
        "id": "hl5_pJh2ZqXL"
      },
      "execution_count": null,
      "outputs": []
    },
    {
      "cell_type": "markdown",
      "source": [
        "Real (Floating-Point):\n",
        "Floating-point numbers are numbers with decimal points."
      ],
      "metadata": {
        "id": "yH68fo7kZtDz"
      }
    },
    {
      "cell_type": "code",
      "source": [
        "pi = 3.14\n",
        "price = 19.99\n"
      ],
      "metadata": {
        "id": "pyYwrO0VZuaL"
      },
      "execution_count": null,
      "outputs": []
    },
    {
      "cell_type": "markdown",
      "source": [
        "Character:\n",
        "A character represents a single character, and it's enclosed in single quotes."
      ],
      "metadata": {
        "id": "Lx6oV45EZw-s"
      }
    },
    {
      "cell_type": "code",
      "source": [
        "initial = 'A'\n",
        "vowel = 'e'\n"
      ],
      "metadata": {
        "id": "RadXuNHyZxy7"
      },
      "execution_count": null,
      "outputs": []
    },
    {
      "cell_type": "markdown",
      "source": [
        "String:\n",
        "Strings are sequences of characters, and they are enclosed in single or double quotes."
      ],
      "metadata": {
        "id": "K5qTiR_LZ0kr"
      }
    },
    {
      "cell_type": "code",
      "source": [
        "name = \"Alice\"\n",
        "greeting = 'Hello, World!'\n"
      ],
      "metadata": {
        "id": "H0GNnokuZ1My"
      },
      "execution_count": null,
      "outputs": []
    },
    {
      "cell_type": "markdown",
      "source": [
        "Boolean:\n",
        "Boolean values represent true or false."
      ],
      "metadata": {
        "id": "shHT38GmZ2ir"
      }
    },
    {
      "cell_type": "code",
      "source": [
        "is_valid = True\n",
        "has_permission = False\n"
      ],
      "metadata": {
        "id": "EUZanJE9Z5Fb"
      },
      "execution_count": null,
      "outputs": []
    },
    {
      "cell_type": "markdown",
      "source": [
        "3. Understand and use input and output:\n",
        "\n",
        "Input and output (I/O) operations are essential for interacting with a program. In Python, you can use the input() function to receive user input and the print() function to display output."
      ],
      "metadata": {
        "id": "NzWnWtnZaSwc"
      }
    },
    {
      "cell_type": "code",
      "source": [
        "# Input\n",
        "name = input(\"Enter your name: \")\n",
        "\n",
        "# Output\n",
        "print(\"Hello, \" + name + \"! Welcome to our program.\")\n"
      ],
      "metadata": {
        "id": "fYqaCh-5aTj7"
      },
      "execution_count": null,
      "outputs": []
    },
    {
      "cell_type": "markdown",
      "source": [
        "4. (a) Understand and use the concept of sequence:\n",
        "\n",
        "The concept of sequence in programming refers to executing a series of statements or commands in a specific order. In Python, code is executed sequentially, from top to bottom."
      ],
      "metadata": {
        "id": "um5CNH5iaU-7"
      }
    },
    {
      "cell_type": "code",
      "source": [
        "# Sequence of operations\n",
        "print(\"Step 1: Initialize\")\n",
        "x = 5\n",
        "y = 3\n",
        "\n",
        "print(\"Step 2: Perform Calculation\")\n",
        "result = x + y\n",
        "\n",
        "print(\"Step 3: Display Result\")\n",
        "print(\"The result is:\", result)\n"
      ],
      "metadata": {
        "colab": {
          "base_uri": "https://localhost:8080/"
        },
        "id": "pgRq084AaaJE",
        "outputId": "acc722c4-11cb-499e-a5d6-0a200bb5b9f2"
      },
      "execution_count": null,
      "outputs": [
        {
          "output_type": "stream",
          "name": "stdout",
          "text": [
            "Step 1: Initialize\n",
            "Step 2: Perform Calculation\n",
            "Step 3: Display Result\n",
            "The result is: 8\n"
          ]
        }
      ]
    },
    {
      "cell_type": "markdown",
      "source": [
        "4. (b) Understand and use the concept of selection:\n",
        "\n",
        "Selection is a fundamental concept in programming that involves making decisions based on certain conditions. In Python, you can implement selection using conditional statements, primarily if statements.\n",
        "\n",
        "IF statements:"
      ],
      "metadata": {
        "id": "rSVL081rajm7"
      }
    },
    {
      "cell_type": "code",
      "source": [
        "# Using IF statement\n",
        "age = 18\n",
        "if age >= 18:\n",
        "    print(\"You are an adult.\")\n",
        "else:\n",
        "    print(\"You are a minor.\")\n"
      ],
      "metadata": {
        "colab": {
          "base_uri": "https://localhost:8080/"
        },
        "id": "ymu5S3KAakVr",
        "outputId": "f9491845-51ed-4c0c-c0a5-6d2b5f8c8f70"
      },
      "execution_count": null,
      "outputs": [
        {
          "output_type": "stream",
          "name": "stdout",
          "text": [
            "You are an adult.\n"
          ]
        }
      ]
    },
    {
      "cell_type": "markdown",
      "source": [
        "CASE statements (Switch statements in other languages):\n",
        "\n",
        "Python doesn't have a built-in switch or case statement like some other programming languages, but you can achieve similar functionality using if, elif, and else statements"
      ],
      "metadata": {
        "id": "tHiraW9EaphL"
      }
    },
    {
      "cell_type": "code",
      "source": [
        "# Using IF-ELIF-ELSE for case-like behavior\n",
        "day = \"Wednesday\"\n",
        "if day == \"Monday\":\n",
        "    print(\"It's the start of the workweek.\")\n",
        "elif day == \"Wednesday\":\n",
        "    print(\"It's the middle of the workweek.\")\n",
        "else:\n",
        "    print(\"It's not Monday or Wednesday.\")\n"
      ],
      "metadata": {
        "colab": {
          "base_uri": "https://localhost:8080/"
        },
        "id": "UXmKhDq2aqSz",
        "outputId": "fcf2ff33-3355-4234-cb35-da9d7dcba7fe"
      },
      "execution_count": null,
      "outputs": [
        {
          "output_type": "stream",
          "name": "stdout",
          "text": [
            "It's the middle of the workweek.\n"
          ]
        }
      ]
    },
    {
      "cell_type": "markdown",
      "source": [
        "4. (c) Understand and use the concept of iteration:\n",
        "\n",
        "Iteration involves repeating a set of instructions or a block of code multiple times. Python provides several ways to achieve iteration, including count-controlled loops, pre-condition loops, and post-condition loops.\n",
        "\n",
        "Count-controlled loop (For loop):"
      ],
      "metadata": {
        "id": "hvgrXqrVasVj"
      }
    },
    {
      "cell_type": "code",
      "source": [
        "# Count-controlled loop (For loop)\n",
        "for i in range(1, 6):\n",
        "    print(\"Iteration\", i)\n"
      ],
      "metadata": {
        "colab": {
          "base_uri": "https://localhost:8080/"
        },
        "id": "nn0nLMWRbK3b",
        "outputId": "0268c363-a14f-4e31-8f5c-e1a503ab66f5"
      },
      "execution_count": null,
      "outputs": [
        {
          "output_type": "stream",
          "name": "stdout",
          "text": [
            "Iteration 1\n",
            "Iteration 2\n",
            "Iteration 3\n",
            "Iteration 4\n",
            "Iteration 5\n"
          ]
        }
      ]
    },
    {
      "cell_type": "markdown",
      "source": [
        "Pre-condition loop (While loop):"
      ],
      "metadata": {
        "id": "VXMBxtVebNe7"
      }
    },
    {
      "cell_type": "code",
      "source": [
        "# Pre-condition loop (While loop)\n",
        "counter = 0\n",
        "while counter < 5:\n",
        "    print(\"Iteration\", counter + 1)\n",
        "    counter += 1\n"
      ],
      "metadata": {
        "colab": {
          "base_uri": "https://localhost:8080/"
        },
        "id": "lOmws1NFbODC",
        "outputId": "320a0e45-7b21-4ba8-945e-2ccef05988ab"
      },
      "execution_count": null,
      "outputs": [
        {
          "output_type": "stream",
          "name": "stdout",
          "text": [
            "Iteration 1\n",
            "Iteration 2\n",
            "Iteration 3\n",
            "Iteration 4\n",
            "Iteration 5\n"
          ]
        }
      ]
    },
    {
      "cell_type": "markdown",
      "source": [
        "Post-condition loop (Do-While loop - Note: Python doesn't have a built-in do-while loop, but you can simulate it):"
      ],
      "metadata": {
        "id": "HGVoUPXfbRiK"
      }
    },
    {
      "cell_type": "code",
      "source": [
        "# Post-condition loop (Do-While loop simulation)\n",
        "counter = 0\n",
        "while True:\n",
        "    print(\"Iteration\", counter + 1)\n",
        "    counter += 1\n",
        "    if counter >= 5:\n",
        "        break\n",
        "# In this example, we use a while loop with a break statement to simulate a post-condition loop."
      ],
      "metadata": {
        "id": "dSSQMWJFbSXj"
      },
      "execution_count": null,
      "outputs": []
    },
    {
      "cell_type": "markdown",
      "source": [
        "4. (d) Understand and use the concepts of totaling and counting:\n",
        "\n",
        "These concepts are often used in loops to accumulate values (totaling) or count occurrences (counting). Here's a simple example:"
      ],
      "metadata": {
        "id": "BRp_B3YubWtz"
      }
    },
    {
      "cell_type": "code",
      "source": [
        "# Totalling and Counting Example\n",
        "numbers = [1, 2, 3, 4, 5]\n",
        "total = 0\n",
        "count = 0\n",
        "\n",
        "for num in numbers:\n",
        "    total += num\n",
        "    count += 1\n",
        "\n",
        "print(\"Total:\", total)\n",
        "print(\"Count:\", count)\n"
      ],
      "metadata": {
        "colab": {
          "base_uri": "https://localhost:8080/"
        },
        "id": "Ir8Bgzy0bZAK",
        "outputId": "9438d4ab-5e30-4113-a2d9-4e0a7564fcc9"
      },
      "execution_count": null,
      "outputs": [
        {
          "output_type": "stream",
          "name": "stdout",
          "text": [
            "Total: 15\n",
            "Count: 5\n"
          ]
        }
      ]
    },
    {
      "cell_type": "markdown",
      "source": [
        "4. (e) Understand and use the concept of string handling:\n",
        "\n",
        "String handling involves manipulating and working with text data. Python provides several built-in functions for string handling.\n",
        "\n",
        "String Length:"
      ],
      "metadata": {
        "id": "zkXhKUqAbeCj"
      }
    },
    {
      "cell_type": "code",
      "source": [
        "text = \"Hello, World!\"\n",
        "length = len(text)\n",
        "print(\"Length of the string:\", length)\n"
      ],
      "metadata": {
        "colab": {
          "base_uri": "https://localhost:8080/"
        },
        "id": "9Ff7nvUxbc-z",
        "outputId": "6185b030-de26-46a9-ed9a-992cf3e7987e"
      },
      "execution_count": null,
      "outputs": [
        {
          "output_type": "stream",
          "name": "stdout",
          "text": [
            "Length of the string: 13\n"
          ]
        }
      ]
    },
    {
      "cell_type": "markdown",
      "source": [
        "Substring:"
      ],
      "metadata": {
        "id": "ihaDogqxbgH7"
      }
    },
    {
      "cell_type": "code",
      "source": [
        "text = \"Hello, World!\"\n",
        "substring = text[0:5]  # Extracts characters from position 0 to 4 (inclusive)\n",
        "print(\"Substring:\", substring)\n"
      ],
      "metadata": {
        "colab": {
          "base_uri": "https://localhost:8080/"
        },
        "id": "IfiYGbPwbhpc",
        "outputId": "a6db03c0-e4a9-432b-f04c-72634be853e9"
      },
      "execution_count": null,
      "outputs": [
        {
          "output_type": "stream",
          "name": "stdout",
          "text": [
            "Substring: Hello\n"
          ]
        }
      ]
    },
    {
      "cell_type": "markdown",
      "source": [
        "Uppercase and Lowercase:"
      ],
      "metadata": {
        "id": "8jA5iU29blcz"
      }
    },
    {
      "cell_type": "code",
      "source": [
        "text = \"Hello, World!\"\n",
        "uppercase_text = text.upper()\n",
        "lowercase_text = text.lower()\n",
        "print(\"Uppercase:\", uppercase_text)\n",
        "print(\"Lowercase:\", lowercase_text)\n"
      ],
      "metadata": {
        "colab": {
          "base_uri": "https://localhost:8080/"
        },
        "id": "r_0e5B7SblMz",
        "outputId": "a87363ef-35be-4472-f073-f1806b2fa38d"
      },
      "execution_count": null,
      "outputs": [
        {
          "output_type": "stream",
          "name": "stdout",
          "text": [
            "Uppercase: HELLO, WORLD!\n",
            "Lowercase: hello, world!\n"
          ]
        }
      ]
    },
    {
      "cell_type": "markdown",
      "source": [
        "In Python, string positions start at 0. So, the first character is at position 0, the second at position 1, and so on."
      ],
      "metadata": {
        "id": "dZZvqRSQbn0T"
      }
    },
    {
      "cell_type": "code",
      "source": [
        "#Div==(Integer division)\n",
        "\n",
        "f=8\n",
        "not f"
      ],
      "metadata": {
        "colab": {
          "base_uri": "https://localhost:8080/"
        },
        "id": "SookcJeTbqWc",
        "outputId": "a6f899f0-0bd6-4046-ca39-b7f04d7fdfc6"
      },
      "execution_count": null,
      "outputs": [
        {
          "output_type": "execute_result",
          "data": {
            "text/plain": [
              "False"
            ]
          },
          "metadata": {},
          "execution_count": 16
        }
      ]
    },
    {
      "cell_type": "code",
      "source": [
        "# Selection means if else."
      ],
      "metadata": {
        "id": "n7au2pDFc1z7"
      },
      "execution_count": null,
      "outputs": []
    },
    {
      "cell_type": "markdown",
      "source": [
        "6. (a) Understand what is meant by procedures, functions, and parameters:\n",
        "\n",
        "Procedures: Procedures are a series of steps or a block of code that can be executed in a program. They are used for grouping related tasks to make code more organized and maintainable.\n",
        "\n",
        "Functions: Functions are a type of procedure that can return a value. They encapsulate a set of actions and often take input parameters to perform specific tasks. Functions are reusable blocks of code.\n",
        "\n",
        "Parameters: Parameters are placeholders for values that a procedure or function can accept as input. They allow you to customize the behavior of the procedure or function when it is called.\n",
        "\n",
        "6. (b) Define and use procedures and functions, with or without parameters:\n",
        "\n",
        "In Python, you can define procedures using regular code blocks, and functions using the def keyword. Here are examples of both with and without parameters:\n",
        "\n",
        "Procedures without Parameters:"
      ],
      "metadata": {
        "id": "UMhaliDOc4iT"
      }
    },
    {
      "cell_type": "code",
      "source": [
        "# Procedure without parameters\n",
        "def greet():\n",
        "    print(\"Hello, World!\")\n",
        "\n",
        "# Calling the procedure\n",
        "greet()\n"
      ],
      "metadata": {
        "colab": {
          "base_uri": "https://localhost:8080/"
        },
        "id": "3UXrEwQvdKLb",
        "outputId": "6da7f1db-2f07-4681-9322-6bb1c2c3212c"
      },
      "execution_count": null,
      "outputs": [
        {
          "output_type": "stream",
          "name": "stdout",
          "text": [
            "Hello, World!\n"
          ]
        }
      ]
    },
    {
      "cell_type": "code",
      "source": [
        "# Procedures with Parameters:\n",
        "# Procedure with parameters\n",
        "def greet(name):\n",
        "    print(\"Hello, \" + name + \"!\")\n",
        "\n",
        "# Calling the procedure with a parameter\n",
        "greet(\"Alice\")\n"
      ],
      "metadata": {
        "colab": {
          "base_uri": "https://localhost:8080/"
        },
        "id": "0ZPQLIyddNE7",
        "outputId": "acf653e3-23c3-4b4f-cb34-67bfc1ddece8"
      },
      "execution_count": null,
      "outputs": [
        {
          "output_type": "stream",
          "name": "stdout",
          "text": [
            "Hello, Alice!\n"
          ]
        }
      ]
    },
    {
      "cell_type": "markdown",
      "source": [
        "Functions without Parameters:"
      ],
      "metadata": {
        "id": "wOMNRsj9dSZL"
      }
    },
    {
      "cell_type": "code",
      "source": [
        "# Function without parameters\n",
        "def get_pi():\n",
        "    return 3.14159265359\n",
        "\n",
        "# Calling the function and storing the result\n",
        "pi = get_pi()\n",
        "print(\"The value of PI is:\", pi)\n"
      ],
      "metadata": {
        "colab": {
          "base_uri": "https://localhost:8080/"
        },
        "id": "VkhGnKrNdTBz",
        "outputId": "a369601d-a522-43c7-f338-c2685087542e"
      },
      "execution_count": null,
      "outputs": [
        {
          "output_type": "stream",
          "name": "stdout",
          "text": [
            "The value of PI is: 3.14159265359\n"
          ]
        }
      ]
    },
    {
      "cell_type": "markdown",
      "source": [
        "Functions with Parameters:"
      ],
      "metadata": {
        "id": "iJYktPyhdYdK"
      }
    },
    {
      "cell_type": "code",
      "source": [
        "# Function with parameters\n",
        "def add(x, y):\n",
        "    return x + y\n",
        "\n",
        "# Calling the function with parameters and storing the result\n",
        "result = add(5, 3)\n",
        "print(\"The result is:\", result)\n"
      ],
      "metadata": {
        "colab": {
          "base_uri": "https://localhost:8080/"
        },
        "id": "1vUIxsqBdXOi",
        "outputId": "38dc8106-d003-4b9f-f2d8-b35c74171bac"
      },
      "execution_count": null,
      "outputs": [
        {
          "output_type": "stream",
          "name": "stdout",
          "text": [
            "The result is: 8\n"
          ]
        }
      ]
    },
    {
      "cell_type": "markdown",
      "source": [
        "6. (c) Understand and use local and global variables:\n",
        "\n",
        "Local Variables: Variables declared within a function or a procedure are considered local variables. They have a limited scope and can only be accessed within that function or procedure."
      ],
      "metadata": {
        "id": "sKo1pZEVda6D"
      }
    },
    {
      "cell_type": "code",
      "source": [
        "def example_function():\n",
        "    local_var = 10  # local_var is a local variable\n",
        "    print(local_var)\n",
        "\n",
        "example_function()\n",
        "# print(local_var)  # This would result in an error because local_var is not accessible here\n"
      ],
      "metadata": {
        "colab": {
          "base_uri": "https://localhost:8080/"
        },
        "id": "GTE9qA6HdcnS",
        "outputId": "883100c1-8a5f-440c-a277-e7970eb7fb36"
      },
      "execution_count": null,
      "outputs": [
        {
          "output_type": "stream",
          "name": "stdout",
          "text": [
            "10\n"
          ]
        }
      ]
    },
    {
      "cell_type": "markdown",
      "source": [
        "Global Variables: Variables declared outside of any function or procedure have a global scope and can be accessed from any part of the program, including within functions or procedures."
      ],
      "metadata": {
        "id": "W_kBHYEddfVi"
      }
    },
    {
      "cell_type": "code",
      "source": [
        "global_var = 20  # global_var is a global variable\n",
        "\n",
        "def example_function():\n",
        "    print(global_var)  # Accessing the global variable from within the function\n",
        "\n",
        "example_function()\n",
        "print(global_var)  # Accessing the global variable from outside the function\n"
      ],
      "metadata": {
        "colab": {
          "base_uri": "https://localhost:8080/"
        },
        "id": "gcquKF_mdfMS",
        "outputId": "dcef2758-4499-4b42-8ba6-2ee0b90df370"
      },
      "execution_count": null,
      "outputs": [
        {
          "output_type": "stream",
          "name": "stdout",
          "text": [
            "20\n",
            "20\n"
          ]
        }
      ]
    },
    {
      "cell_type": "markdown",
      "source": [
        "7. Understand and Use Library Routines:\n",
        "a. MOD (Modulus):\n",
        "\n",
        "The MOD function in Python is not part of the standard library. Instead, you can use the % operator for modulus operations. Modulus returns the remainder when one number is divided by another."
      ],
      "metadata": {
        "id": "6ae0faxgdigK"
      }
    },
    {
      "cell_type": "code",
      "source": [
        "result = 10 % 3  # Result is 1 (10 divided by 3 leaves a remainder of 1)\n"
      ],
      "metadata": {
        "id": "u9FnWbvld7sg"
      },
      "execution_count": null,
      "outputs": []
    },
    {
      "cell_type": "markdown",
      "source": [
        "b. DIV (Integer Division):\n",
        "\n",
        "The DIV function is not a standard Python function either. Instead, you can use the // operator for integer division, which discards the fractional part of the result.\n",
        "\n",
        "Example:"
      ],
      "metadata": {
        "id": "GnO8qgMUd9RL"
      }
    },
    {
      "cell_type": "code",
      "source": [
        "result = 10 // 3  # Result is 3 (the fractional part is discarded)\n"
      ],
      "metadata": {
        "id": "P_K9fz_ld_Aj"
      },
      "execution_count": null,
      "outputs": []
    },
    {
      "cell_type": "markdown",
      "source": [
        "c. ROUND:\n",
        "\n",
        "The round() function is part of the Python standard library. It is used to round a number to the nearest integer or to a specified number of decimal places.\n",
        "\n",
        "Example:"
      ],
      "metadata": {
        "id": "NFIIMBiDeAZj"
      }
    },
    {
      "cell_type": "code",
      "source": [
        "x = 3.14159\n",
        "rounded_x = round(x, 2)  # Round to 2 decimal places, result is 3.14\n"
      ],
      "metadata": {
        "id": "guMtRSMfeC0D"
      },
      "execution_count": null,
      "outputs": []
    },
    {
      "cell_type": "markdown",
      "source": [
        "d. RANDOM:\n",
        "\n",
        "The random module in Python provides functions for generating random numbers. You can use random.randint(a, b) to generate a random integer between a and b, and random.uniform(a, b) to generate a random floating-point number between a and b.\n",
        "\n",
        "Example:"
      ],
      "metadata": {
        "id": "uWmYqeTDeDfU"
      }
    },
    {
      "cell_type": "code",
      "source": [
        "import random\n",
        "\n",
        "# Generate a random integer between 1 and 10\n",
        "random_int = random.randint(1, 10)\n",
        "\n",
        "# Generate a random floating-point number between 0 and 1\n",
        "random_float = random.uniform(0, 1)\n"
      ],
      "metadata": {
        "id": "O5EZaL26eFPL"
      },
      "execution_count": null,
      "outputs": []
    },
    {
      "cell_type": "markdown",
      "source": [
        "# **1. Meaningful Identifiers:**"
      ],
      "metadata": {
        "id": "gcCFod_sdALG"
      }
    },
    {
      "cell_type": "markdown",
      "source": [
        "a. Variables:\n",
        "\n",
        "Use clear and descriptive names for variables to make your code more readable"
      ],
      "metadata": {
        "id": "sOG78JUNdBfF"
      }
    },
    {
      "cell_type": "code",
      "source": [
        "# Bad variable name\n",
        "a = 10\n",
        "\n",
        "# Good variable name\n",
        "product_price = 10\n"
      ],
      "metadata": {
        "id": "IZEwQOsPdEqV"
      },
      "execution_count": null,
      "outputs": []
    },
    {
      "cell_type": "markdown",
      "source": [
        "b. Constants:\n",
        "\n",
        "Constants are typically written in uppercase to distinguish them from variables."
      ],
      "metadata": {
        "id": "jZ7qoGo_dJTW"
      }
    },
    {
      "cell_type": "code",
      "source": [
        "# Bad constant name\n",
        "pi = 3.1415\n",
        "\n",
        "# Good constant name\n",
        "PI = 3.1415\n"
      ],
      "metadata": {
        "id": "1xDsYcSpdL92"
      },
      "execution_count": null,
      "outputs": []
    },
    {
      "cell_type": "markdown",
      "source": [
        "c. Arrays:\n",
        "\n",
        "For arrays or lists, use plural nouns for the variable name when it makes sense."
      ],
      "metadata": {
        "id": "mItkA3wkdQbV"
      }
    },
    {
      "cell_type": "code",
      "source": [
        "# Bad array name\n",
        "x = [1, 2, 3]\n",
        "\n",
        "# Good array name\n",
        "numbers = [1, 2, 3]\n"
      ],
      "metadata": {
        "id": "sfTn_dKvdOQe"
      },
      "execution_count": null,
      "outputs": []
    },
    {
      "cell_type": "markdown",
      "source": [
        "2. Commenting:\n",
        "\n",
        "Python uses the # symbol for single-line comments. Here's an example:"
      ],
      "metadata": {
        "id": "LAOAPem7elzm"
      }
    },
    {
      "cell_type": "code",
      "source": [
        "# This is a single-line comment\n",
        "result = perform_operation(data)\n"
      ],
      "metadata": {
        "colab": {
          "base_uri": "https://localhost:8080/",
          "height": 193
        },
        "id": "2Hhfxe2_emx2",
        "outputId": "cbc5e80b-91a3-421c-c775-b05060fb8989"
      },
      "execution_count": null,
      "outputs": [
        {
          "output_type": "error",
          "ename": "NameError",
          "evalue": "ignored",
          "traceback": [
            "\u001b[0;31m---------------------------------------------------------------------------\u001b[0m",
            "\u001b[0;31mNameError\u001b[0m                                 Traceback (most recent call last)",
            "\u001b[0;32m<ipython-input-1-1b3e0ac858d0>\u001b[0m in \u001b[0;36m<cell line: 2>\u001b[0;34m()\u001b[0m\n\u001b[1;32m      1\u001b[0m \u001b[0;31m# This is a single-line comment\u001b[0m\u001b[0;34m\u001b[0m\u001b[0;34m\u001b[0m\u001b[0m\n\u001b[0;32m----> 2\u001b[0;31m \u001b[0mresult\u001b[0m \u001b[0;34m=\u001b[0m \u001b[0mperform_operation\u001b[0m\u001b[0;34m(\u001b[0m\u001b[0mdata\u001b[0m\u001b[0;34m)\u001b[0m\u001b[0;34m\u001b[0m\u001b[0;34m\u001b[0m\u001b[0m\n\u001b[0m",
            "\u001b[0;31mNameError\u001b[0m: name 'perform_operation' is not defined"
          ]
        }
      ]
    },
    {
      "cell_type": "markdown",
      "source": [
        "You can also use multi-line comments (docstrings) for functions, classes, and modules:\n",
        "\n"
      ],
      "metadata": {
        "id": "dI4ZDliMgc3M"
      }
    },
    {
      "cell_type": "code",
      "source": [
        "def calculate_total(price, tax_rate):\n",
        "    \"\"\"\n",
        "    This function calculates the total price including tax.\n",
        "\n",
        "    Args:\n",
        "        price (float): The base price.\n",
        "        tax_rate (float): The tax rate as a decimal.\n",
        "\n",
        "    Returns:\n",
        "        float: The total price including tax.\n",
        "    \"\"\"\n",
        "    return price + (price * tax_rate)\n"
      ],
      "metadata": {
        "id": "_fFHGGwdgcYU"
      },
      "execution_count": null,
      "outputs": []
    },
    {
      "cell_type": "markdown",
      "source": [
        "3. Procedures and Functions:\n",
        "\n",
        "Procedures and functions are defined with def. They should have a well-defined purpose and use meaningful names."
      ],
      "metadata": {
        "id": "_2D5GzQOgjub"
      }
    },
    {
      "cell_type": "code",
      "source": [
        "# Function to calculate the total price including tax\n",
        "def calculate_total(price, tax_rate):\n",
        "    return price + (price * tax_rate)\n"
      ],
      "metadata": {
        "id": "L_1IZypNeu_E"
      },
      "execution_count": null,
      "outputs": []
    },
    {
      "cell_type": "markdown",
      "source": [
        "4. Relevant and Appropriate Commenting of Syntax:\n",
        "\n",
        "Commenting of syntax is important when you use non-standard or complex code constructs"
      ],
      "metadata": {
        "id": "aNCKoFjEgv0M"
      }
    },
    {
      "cell_type": "code",
      "source": [
        "# This is a complex list comprehension\n",
        "\n",
        "numbers=[56,78,34,56]\n",
        "result = [x * 2 for x in numbers if x % 2 == 0]\n",
        "result"
      ],
      "metadata": {
        "colab": {
          "base_uri": "https://localhost:8080/"
        },
        "id": "GUNYTBAog0g7",
        "outputId": "e6a61179-66ae-4142-c144-35f1f16ffde6"
      },
      "execution_count": null,
      "outputs": [
        {
          "output_type": "execute_result",
          "data": {
            "text/plain": [
              "[112, 156, 68, 112]"
            ]
          },
          "metadata": {},
          "execution_count": 6
        }
      ]
    },
    {
      "cell_type": "markdown",
      "source": [
        "1. Declare and Use One-Dimensional (1D) and Two-Dimensional (2D) Arrays:\n",
        "\n",
        "In Python, you can use lists to create both 1D and 2D arrays. A 1D array is essentially a list, while a 2D array is a list of lists.\n",
        "\n",
        "1D Array:"
      ],
      "metadata": {
        "id": "klNVpUovnB-I"
      }
    },
    {
      "cell_type": "code",
      "source": [
        "# Declare and initialize a 1D array\n",
        "my_array = [1, 2, 3, 4, 5]\n",
        "\n",
        "# Access elements by index\n",
        "value = my_array[2]  # This will give you the value 3\n"
      ],
      "metadata": {
        "id": "iB2eQATKnClw"
      },
      "execution_count": null,
      "outputs": []
    },
    {
      "cell_type": "markdown",
      "source": [
        "2D Array:"
      ],
      "metadata": {
        "id": "QAET_BFMnEnQ"
      }
    },
    {
      "cell_type": "code",
      "source": [
        "# Declare and initialize a 2D array\n",
        "my_2d_array = [\n",
        "    [1, 2, 3],\n",
        "    [4, 5, 6],\n",
        "    [7, 8, 9]\n",
        "]\n",
        "\n",
        "# Access elements by index\n",
        "value = my_2d_array[1][2]  # This will give you the value 6\n"
      ],
      "metadata": {
        "id": "AFyi92ZknGoY"
      },
      "execution_count": null,
      "outputs": []
    },
    {
      "cell_type": "markdown",
      "source": [
        "2. Understand the Use of Arrays:\n",
        "\n",
        "a. Use of Variables as Indexes in Arrays:\n",
        "\n",
        "You can use variables as array indices to access elements dynamically:"
      ],
      "metadata": {
        "id": "QRe77PminI_I"
      }
    },
    {
      "cell_type": "code",
      "source": [
        "index = 2\n",
        "value = my_array[index]  # Access the element at index 2\n",
        "value"
      ],
      "metadata": {
        "colab": {
          "base_uri": "https://localhost:8080/"
        },
        "id": "oUZ3chOFnLjQ",
        "outputId": "d40a01da-64c7-46d7-fc43-8fcd566150ad"
      },
      "execution_count": null,
      "outputs": [
        {
          "output_type": "execute_result",
          "data": {
            "text/plain": [
              "3"
            ]
          },
          "metadata": {},
          "execution_count": 10
        }
      ]
    },
    {
      "cell_type": "markdown",
      "source": [
        "b. The First Index Can Be Zero or One:\n",
        "\n",
        "In Python, the first index in arrays (and lists) is zero. If you want it to be one, you would need to adjust your code accordingly."
      ],
      "metadata": {
        "id": "tUlL72aWnTmR"
      }
    },
    {
      "cell_type": "markdown",
      "source": [
        "3. Write Values into and Read Values from an Array Using Iteration:\n",
        "\n",
        "a. Writing Values into an Array Using Iteration:\n",
        "\n",
        "You can use loops like for or while to write values into an array:"
      ],
      "metadata": {
        "id": "8SIxfGDknX_Y"
      }
    },
    {
      "cell_type": "code",
      "source": [
        "my_array = []  # Create an empty array\n",
        "for i in range(5):\n",
        "    my_array.append(i)  # Append values 0 to 4 to the array\n"
      ],
      "metadata": {
        "id": "WLbjwafAna8o"
      },
      "execution_count": null,
      "outputs": []
    },
    {
      "cell_type": "markdown",
      "source": [
        "b. Reading Values from an Array Using Iteration:\n",
        "\n",
        "You can use loops to iterate through an array and read its values:"
      ],
      "metadata": {
        "id": "ET1CUNUCnd-7"
      }
    },
    {
      "cell_type": "code",
      "source": [
        "for value in my_array:\n",
        "    print(value)\n"
      ],
      "metadata": {
        "colab": {
          "base_uri": "https://localhost:8080/"
        },
        "id": "-N6slXIwngC5",
        "outputId": "09aff4a9-1c3d-4451-e051-a7065f0adef7"
      },
      "execution_count": null,
      "outputs": [
        {
          "output_type": "stream",
          "name": "stdout",
          "text": [
            "0\n",
            "1\n",
            "2\n",
            "3\n",
            "4\n"
          ]
        }
      ]
    },
    {
      "cell_type": "markdown",
      "source": [
        "c. Nested Iteration (for 2D Arrays):\n",
        "\n",
        "To iterate through a 2D array, you can use nested loops:"
      ],
      "metadata": {
        "id": "ss0V1Vyvnikw"
      }
    },
    {
      "cell_type": "code",
      "source": [
        "for row in my_2d_array:\n",
        "    for element in row:\n",
        "        print(element)\n"
      ],
      "metadata": {
        "colab": {
          "base_uri": "https://localhost:8080/"
        },
        "id": "TiPMBGX7nnio",
        "outputId": "45238ca6-6166-43e2-a2af-cd44a3332896"
      },
      "execution_count": null,
      "outputs": [
        {
          "output_type": "stream",
          "name": "stdout",
          "text": [
            "1\n",
            "2\n",
            "3\n",
            "4\n",
            "5\n",
            "6\n",
            "7\n",
            "8\n",
            "9\n"
          ]
        }
      ]
    },
    {
      "cell_type": "markdown",
      "source": [
        "1. Understand the Purpose of Storing Data in a File for Use by a Program:\n",
        "\n",
        "Storing data in a file is essential for various reasons, such as data persistence, sharing data between programs, and archiving information. It allows programs to:\n",
        "\n",
        "Save user settings or configuration data for future sessions.\n",
        "\n",
        "Store large datasets that may not fit into memory.\n",
        "\n",
        "Share data with other programs or users.\n",
        "\n",
        "Create logs or records of program activity.\n",
        "\n",
        "Store information for later retrieval and analysis."
      ],
      "metadata": {
        "id": "tKke4Vb9n_3I"
      }
    },
    {
      "cell_type": "markdown",
      "source": [
        "2. Open, Close, and Use a File for Reading and Writing:\n",
        "\n",
        "In Python, you can interact with files using the built-in open() function. Here's how you can open, close, read, and write to a file:\n",
        "\n",
        "Opening and Closing a File:\n",
        "\n",
        "To open a file for reading or writing, use the open() function.\n",
        "\n",
        "You should always close the file when you're done with it to release system resources."
      ],
      "metadata": {
        "id": "ls0biwShoDSp"
      }
    },
    {
      "cell_type": "code",
      "source": [
        "# Opening a file for reading\n",
        "file = open(\"example.txt\", \"r\")\n",
        "\n",
        "# Reading from the file\n",
        "content = file.read()\n",
        "print(content)\n",
        "\n",
        "# Closing the file\n",
        "file.close()\n"
      ],
      "metadata": {
        "colab": {
          "base_uri": "https://localhost:8080/"
        },
        "id": "R6ZjgDkvoC3I",
        "outputId": "e0037854-8122-47ee-b99e-2cdce08319d9"
      },
      "execution_count": null,
      "outputs": [
        {
          "output_type": "stream",
          "name": "stdout",
          "text": [
            "My Name is jjj\n"
          ]
        }
      ]
    },
    {
      "cell_type": "markdown",
      "source": [
        "Reading and Writing Single Items of Data:\n",
        "\n",
        "You can read or write single items of data using the read() and write() methods."
      ],
      "metadata": {
        "id": "4BvVJcemoeon"
      }
    },
    {
      "cell_type": "code",
      "source": [
        "# Opening a file for writing\n",
        "file = open(\"data.txt\", \"w\")\n",
        "\n",
        "# Writing a single item (string) to the file\n",
        "file.write(\"Hello, world!\")\n",
        "\n",
        "# Closing the file\n",
        "file.close()\n",
        "\n",
        "# Opening the same file for reading\n",
        "file = open(\"data.txt\", \"r\")\n",
        "\n",
        "# Reading a single item (string) from the file\n",
        "content = file.read()\n",
        "print(content)\n",
        "\n",
        "# Closing the file\n",
        "file.close()\n"
      ],
      "metadata": {
        "colab": {
          "base_uri": "https://localhost:8080/"
        },
        "id": "2CQT9QifofSh",
        "outputId": "feadf93e-751d-4e76-a45c-327b0c3f3add"
      },
      "execution_count": null,
      "outputs": [
        {
          "output_type": "stream",
          "name": "stdout",
          "text": [
            "Hello, world!\n"
          ]
        }
      ]
    },
    {
      "cell_type": "markdown",
      "source": [
        "Reading and Writing a Line of Text:\n",
        "\n",
        "To work with lines of text, you can use the readline() method to read one line at a time or the writelines() method to write a list of lines to the file."
      ],
      "metadata": {
        "id": "XKsKipDRoo23"
      }
    },
    {
      "cell_type": "code",
      "source": [
        "# Opening a file for writing\n",
        "file = open(\"text.txt\", \"w\")\n",
        "\n",
        "# Writing multiple lines of text\n",
        "lines = [\"Line 1\\n\", \"Line 2\\n\", \"Line 3\\n\"]\n",
        "file.writelines(lines)\n",
        "\n",
        "# Closing the file\n",
        "file.close()\n",
        "\n",
        "# Opening the same file for reading\n",
        "file = open(\"text.txt\", \"r\")\n",
        "\n",
        "# Reading lines one by one\n",
        "line1 = file.readline()\n",
        "line2 = file.readline()\n",
        "line3 = file.readline()\n",
        "\n",
        "# Closing the file\n",
        "file.close()\n",
        "\n",
        "# Printing the lines\n",
        "print(line1, end=\"\")\n",
        "print(line2, end=\"\")\n",
        "print(line3, end=\"\")\n",
        "\n",
        "\n"
      ],
      "metadata": {
        "colab": {
          "base_uri": "https://localhost:8080/"
        },
        "id": "7zth2YjYooN6",
        "outputId": "48b75cd6-fe7e-4433-a794-eaa880695a24"
      },
      "execution_count": null,
      "outputs": [
        {
          "output_type": "stream",
          "name": "stdout",
          "text": [
            "Line 1\n",
            "Line 2\n",
            "Line 3\n"
          ]
        }
      ]
    }
  ]
}